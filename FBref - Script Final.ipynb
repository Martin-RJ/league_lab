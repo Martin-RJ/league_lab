{
 "cells": [
  {
   "cell_type": "markdown",
   "id": "e81c0ea3",
   "metadata": {},
   "source": [
    "# Import"
   ]
  },
  {
   "cell_type": "code",
   "execution_count": 1,
   "id": "0a5fa82a",
   "metadata": {},
   "outputs": [],
   "source": [
    "from tqdm import tqdm\n",
    "import time\n",
    "from Library import scrapping_def as scrap"
   ]
  },
  {
   "cell_type": "markdown",
   "id": "1894d51e",
   "metadata": {},
   "source": [
    "# Généralités"
   ]
  },
  {
   "cell_type": "markdown",
   "id": "1fad0f8c",
   "metadata": {},
   "source": [
    "You need :\n",
    "\n",
    "* League URL ==> Choose a League and a Season then copy URL (Championship format only, no Cups or International competitions)\n",
    "* Team names and Team URL in a dictionary ==> Use get_team_url_dict(url) with League URL\n",
    "* PATHs to League Match Reports directories ==> Create it\n",
    "* PATHs to League Fixtures directories ==> Create it\n",
    "* PATHs to League Stats directories ==> Create it\n",
    "* PATHs to Global League Stats directories ==> Create it"
   ]
  },
  {
   "cell_type": "code",
   "execution_count": 2,
   "id": "435bff8b",
   "metadata": {},
   "outputs": [],
   "source": [
    "url = #'https://fbref.com/en/comps/15/League-One-Stats'\n",
    "l1_dict = scrap.get_team_url_dict(url)"
   ]
  },
  {
   "cell_type": "code",
   "execution_count": 3,
   "id": "7728d0a0",
   "metadata": {},
   "outputs": [],
   "source": [
    "l1_reports_PATH = #your path,
    "l1_fixtures_PATH = #your path,
    "l1_stats_PATH = #your path,
    "gw_l1_stats_PATH = #your path,
    "global_l1_stats_PATH = #your path
   ]
  },
  {
   "cell_type": "markdown",
   "id": "1f81964f",
   "metadata": {},
   "source": [
    "# Stats"
   ]
  },
  {
   "cell_type": "code",
   "execution_count": 4,
   "id": "4e40a98d",
   "metadata": {},
   "outputs": [],
   "source": [
    "#Environ 60sec\n",
    "scrap.get_l1teams_stats(l1_dict, l1_stats_PATH)"
   ]
  },
  {
   "cell_type": "code",
   "execution_count": 5,
   "id": "89ccecc1",
   "metadata": {},
   "outputs": [],
   "source": [
    "#Environ 1sec\n",
    "scrap.get_concatenated_l1_stats(l1_stats_PATH, url)"
   ]
  },
  {
   "cell_type": "code",
   "execution_count": 6,
   "id": "79415c1d",
   "metadata": {},
   "outputs": [],
   "source": [
    "#Environ 1sec\n",
    "scrap.global_l1_stats(gw_l1_stats_PATH)"
   ]
  },
  {
   "cell_type": "markdown",
   "id": "708c1c4e",
   "metadata": {},
   "source": [
    "# Fixtures"
   ]
  },
  {
   "cell_type": "code",
   "execution_count": 7,
   "id": "d272eba1",
   "metadata": {},
   "outputs": [],
   "source": [
    "#Environ 30sec\n",
    "scrap.get_l1teams_fixtures(l1_fixtures_PATH, l1_dict)"
   ]
  },
  {
   "cell_type": "code",
   "execution_count": 8,
   "id": "517f013f",
   "metadata": {},
   "outputs": [],
   "source": [
    "#Environ 1sec\n",
    "scrap.get_concatenated_l1_fixtures(l1_fixtures_PATH)"
   ]
  },
  {
   "cell_type": "markdown",
   "id": "b35bd289",
   "metadata": {},
   "source": [
    "# Match reports"
   ]
  },
  {
   "cell_type": "code",
   "execution_count": 9,
   "id": "da2ca21d",
   "metadata": {},
   "outputs": [],
   "source": [
    "#Environ 30mn\n",
    "scrap.get_l1_match_reports_data(l1_reports_PATH, l1_dict)"
   ]
  },
  {
   "cell_type": "code",
   "execution_count": 10,
   "id": "eeac3afa",
   "metadata": {},
   "outputs": [],
   "source": [
    "#Environ 1sec\n",
    "scrap.get_concatenated_l1_match_reports(l1_reports_PATH)"
   ]
  }
 ],
 "metadata": {
  "kernelspec": {
   "display_name": "Python 3 (ipykernel)",
   "language": "python",
   "name": "python3"
  },
  "language_info": {
   "codemirror_mode": {
    "name": "ipython",
    "version": 3
   },
   "file_extension": ".py",
   "mimetype": "text/x-python",
   "name": "python",
   "nbconvert_exporter": "python",
   "pygments_lexer": "ipython3",
   "version": "3.8.12"
  }
 },
 "nbformat": 4,
 "nbformat_minor": 5
}
